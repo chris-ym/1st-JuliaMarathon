{
 "cells": [
  {
   "cell_type": "markdown",
   "metadata": {},
   "source": [
    "# Julia 深度學習：可微分程式設計\n",
    "\n",
    "## 作業 031：對神經網路層微分\n",
    "\n",
    "請自行撰寫一個型別，型別代表神經網路的一層運算，並且對它微分。神經網路層的一般式如下：\n",
    "\n",
    "$$\n",
    "y = \\sigma (Wx + b)\n",
    "$$\n",
    "\n",
    "其中 `W` 為參數矩陣，`b` 為參數向量，`x` 為輸入向量，`y` 為輸出向量。要取得向量的微分值，需要將向量縮減為純量，如下：\n",
    "\n",
    "```\n",
    "gradient(x -> sum(y), 1)\n",
    "```"
   ]
  },
  {
   "cell_type": "code",
   "execution_count": 38,
   "metadata": {},
   "outputs": [
    {
     "name": "stderr",
     "output_type": "stream",
     "text": [
      "\u001b[32m\u001b[1m   Updating\u001b[22m\u001b[39m registry at `C:\\Users\\chris-wang\\.julia\\registries\\General`"
     ]
    },
    {
     "name": "stdout",
     "output_type": "stream",
     "text": [
      "\u001b[?25l"
     ]
    },
    {
     "name": "stderr",
     "output_type": "stream",
     "text": [
      "\n",
      "\u001b[32m\u001b[1m   Updating\u001b[22m\u001b[39m git-repo `https://github.com/JuliaRegistries/General.git`\n"
     ]
    },
    {
     "name": "stdout",
     "output_type": "stream",
     "text": [
      "\u001b[2K\u001b[?25h[1mFetching:\u001b[22m\u001b[39m [========================================>]  100.0 % %.6 %                                 ]  16.7 %.6 % %=============>                           ]  30.0 %.6 % [===============>                         ]  35.7 %8 %0 %56.4 % [===========================>             ]  65.6 %============================>            ]  68.9 %2 %74.0 %===============================>         ]  76.7 % [=================================>       ]  80.0 %      ]  83.3 %\u001b[36m\u001b[1mFetching:\u001b[22m\u001b[39m [===================================>     ]  86.4 %=====================================>   ]  91.1 %  ]  93.6 % [========================================>]  97.8 %"
     ]
    },
    {
     "name": "stderr",
     "output_type": "stream",
     "text": [
      "\u001b[32m\u001b[1m  Resolving\u001b[22m\u001b[39m package versions...\n",
      "\u001b[32m\u001b[1m  Installed\u001b[22m\u001b[39m libass_jll ───── v0.14.0+2\n",
      "\u001b[32m\u001b[1m  Installed\u001b[22m\u001b[39m x264_jll ─────── v2019.5.25+2\n",
      "\u001b[32m\u001b[1m  Installed\u001b[22m\u001b[39m FFMPEG_jll ───── v4.1.0+3\n",
      "\u001b[32m\u001b[1m  Installed\u001b[22m\u001b[39m LAME_jll ─────── v3.100.0+1\n",
      "\u001b[32m\u001b[1m  Installed\u001b[22m\u001b[39m x265_jll ─────── v3.0.0+1\n",
      "\u001b[32m\u001b[1m  Installed\u001b[22m\u001b[39m libfdk_aac_jll ─ v0.1.6+2\n",
      "\u001b[32m\u001b[1m  Installed\u001b[22m\u001b[39m libvorbis_jll ── v1.3.6+4\n",
      "\u001b[32m\u001b[1m  Installed\u001b[22m\u001b[39m FriBidi_jll ──── v1.0.5+3\n",
      "\u001b[32m\u001b[1m   Updating\u001b[22m\u001b[39m `C:\\Users\\chris-wang\\.julia\\environments\\v1.4\\Project.toml`\n",
      " \u001b[90m [e88e6eb3]\u001b[39m\u001b[92m + Zygote v0.4.8\u001b[39m\n",
      "\u001b[32m\u001b[1m   Updating\u001b[22m\u001b[39m `C:\\Users\\chris-wang\\.julia\\environments\\v1.4\\Manifest.toml`\n",
      " \u001b[90m [b22a6f82]\u001b[39m\u001b[93m ↑ FFMPEG_jll v4.1.0+2 ⇒ v4.1.0+3\u001b[39m\n",
      " \u001b[90m [559328eb]\u001b[39m\u001b[93m ↑ FriBidi_jll v1.0.5+2 ⇒ v1.0.5+3\u001b[39m\n",
      " \u001b[90m [c1c5ebd0]\u001b[39m\u001b[93m ↑ LAME_jll v3.100.0+0 ⇒ v3.100.0+1\u001b[39m\n",
      " \u001b[90m [0ac62f75]\u001b[39m\u001b[93m ↑ libass_jll v0.14.0+1 ⇒ v0.14.0+2\u001b[39m\n",
      " \u001b[90m [f638f0a6]\u001b[39m\u001b[93m ↑ libfdk_aac_jll v0.1.6+1 ⇒ v0.1.6+2\u001b[39m\n",
      " \u001b[90m [f27f6e37]\u001b[39m\u001b[93m ↑ libvorbis_jll v1.3.6+3 ⇒ v1.3.6+4\u001b[39m\n",
      " \u001b[90m [1270edf5]\u001b[39m\u001b[93m ↑ x264_jll v2019.5.25+1 ⇒ v2019.5.25+2\u001b[39m\n",
      " \u001b[90m [dfaa095f]\u001b[39m\u001b[93m ↑ x265_jll v3.0.0+0 ⇒ v3.0.0+1\u001b[39m\n"
     ]
    }
   ],
   "source": [
    "using Pkg\n",
    "Pkg.add(\"Zygote\")"
   ]
  },
  {
   "cell_type": "code",
   "execution_count": 39,
   "metadata": {},
   "outputs": [
    {
     "name": "stderr",
     "output_type": "stream",
     "text": [
      "┌ Info: Precompiling Zygote [e88e6eb3-aa80-5325-afca-941959d7151f]\n",
      "└ @ Base loading.jl:1260\n"
     ]
    }
   ],
   "source": [
    "using Zygote"
   ]
  },
  {
   "cell_type": "code",
   "execution_count": 40,
   "metadata": {},
   "outputs": [
    {
     "data": {
      "text/plain": [
       "3"
      ]
     },
     "execution_count": 40,
     "metadata": {},
     "output_type": "execute_result"
    }
   ],
   "source": [
    "#x=[1,2]\n",
    "w=[1 2;\n",
    "    3 4;]\n",
    "\n",
    "b=3"
   ]
  },
  {
   "cell_type": "code",
   "execution_count": 47,
   "metadata": {},
   "outputs": [
    {
     "data": {
      "text/plain": [
       "2-element Array{Int64,1}:\n",
       " 1\n",
       " 2"
      ]
     },
     "execution_count": 47,
     "metadata": {},
     "output_type": "execute_result"
    }
   ],
   "source": [
    "x=[1,2]"
   ]
  },
  {
   "cell_type": "code",
   "execution_count": 43,
   "metadata": {},
   "outputs": [
    {
     "data": {
      "text/plain": [
       "f (generic function with 3 methods)"
      ]
     },
     "execution_count": 43,
     "metadata": {},
     "output_type": "execute_result"
    }
   ],
   "source": [
    "function f(w::Array{Int64,2}, x::Array{Int64,1},b::Float64)\n",
    "    y=w*x.+b\n",
    "    return gradient(x -> sum(y),1)\n",
    "end"
   ]
  },
  {
   "cell_type": "code",
   "execution_count": 48,
   "metadata": {},
   "outputs": [
    {
     "ename": "MethodError",
     "evalue": "MethodError: no method matching f(::Array{Int64,2}, ::Array{Int64,1}, ::Int64)\nClosest candidates are:\n  f(::Array{Int64,2}, ::Array{Int64,1}, !Matched::Float64) at In[43]:2\n  f(::Array{Int64,2}, !Matched::Int64, !Matched::Float64) at In[31]:2",
     "output_type": "error",
     "traceback": [
      "MethodError: no method matching f(::Array{Int64,2}, ::Array{Int64,1}, ::Int64)\nClosest candidates are:\n  f(::Array{Int64,2}, ::Array{Int64,1}, !Matched::Float64) at In[43]:2\n  f(::Array{Int64,2}, !Matched::Int64, !Matched::Float64) at In[31]:2",
      "",
      "Stacktrace:",
      " [1] top-level scope at In[48]:1"
     ]
    }
   ],
   "source": [
    "f(w,x,b)"
   ]
  },
  {
   "cell_type": "code",
   "execution_count": 49,
   "metadata": {},
   "outputs": [
    {
     "data": {
      "text/plain": [
       "2-element Array{Int64,1}:\n",
       "  8\n",
       " 14"
      ]
     },
     "execution_count": 49,
     "metadata": {},
     "output_type": "execute_result"
    }
   ],
   "source": [
    "w*x.+b"
   ]
  },
  {
   "cell_type": "code",
   "execution_count": 50,
   "metadata": {},
   "outputs": [],
   "source": [
    "mutable struct Layer\n",
    "    W::Matrix\n",
    "    b::Vector\n",
    "end"
   ]
  },
  {
   "cell_type": "code",
   "execution_count": 51,
   "metadata": {},
   "outputs": [],
   "source": [
    "(l::Layer)(x) = identity(l.W*x + l.b)"
   ]
  },
  {
   "cell_type": "code",
   "execution_count": 54,
   "metadata": {},
   "outputs": [
    {
     "data": {
      "text/plain": [
       "Layer([0.1414654831967901 0.46470437984159574 0.6165877745352297 0.6464864131368455; 0.7377475325829155 0.7312868038913711 0.07591482623736723 0.2621685084397931; 0.025253632953440075 0.7395169532386929 0.39790186324435184 0.4391514325563668], [0.9820802403429572, 0.18079078625707146, 0.4061549131810842])"
      ]
     },
     "execution_count": 54,
     "metadata": {},
     "output_type": "execute_result"
    }
   ],
   "source": [
    "l = Layer(rand(3, 4), rand(3))"
   ]
  },
  {
   "cell_type": "code",
   "execution_count": 58,
   "metadata": {},
   "outputs": [
    {
     "data": {
      "text/plain": [
       "3-element Array{Float64,1}:\n",
       " 1.7162365977944263\n",
       " 0.8671911230552809\n",
       " 0.9941912528751663"
      ]
     },
     "execution_count": 58,
     "metadata": {},
     "output_type": "execute_result"
    }
   ],
   "source": [
    "l(rand(4))"
   ]
  },
  {
   "cell_type": "code",
   "execution_count": 60,
   "metadata": {},
   "outputs": [
    {
     "data": {
      "text/plain": [
       "([0.9044666487331456, 1.9355081369716598, 1.0904044640169488, 1.3478063541330054],)"
      ]
     },
     "execution_count": 60,
     "metadata": {},
     "output_type": "execute_result"
    }
   ],
   "source": [
    "gradient(x -> sum(l(x)), rand(4))"
   ]
  },
  {
   "cell_type": "code",
   "execution_count": null,
   "metadata": {},
   "outputs": [],
   "source": []
  }
 ],
 "metadata": {
  "kernelspec": {
   "display_name": "Julia 1.4.0",
   "language": "julia",
   "name": "julia-1.4"
  },
  "language_info": {
   "file_extension": ".jl",
   "mimetype": "application/julia",
   "name": "julia",
   "version": "1.4.0"
  }
 },
 "nbformat": 4,
 "nbformat_minor": 4
}
