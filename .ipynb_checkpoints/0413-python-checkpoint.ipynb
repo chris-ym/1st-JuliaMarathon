{
 "cells": [
  {
   "cell_type": "code",
   "execution_count": 15,
   "metadata": {},
   "outputs": [],
   "source": [
    "class Coordinate(object):\n",
    "\n",
    "    def __init__(self, x, y):\n",
    "\n",
    "        self.x = x\n",
    "\n",
    "        self.y = y\n",
    "\n",
    "\n",
    "\n",
    "    def getX(self):\n",
    "\n",
    "        # Getter method for a Coordinate object's x coordinate.\n",
    "\n",
    "        # Getter methods are better practice than just accessing an attribute directly\n",
    "\n",
    "        return self.x\n",
    "\n",
    "\n",
    "\n",
    "    def getY(self):\n",
    "\n",
    "        # Getter method for a Coordinate object's y coordinate\n",
    "\n",
    "        return self.y\n",
    "\n",
    "\n",
    "\n",
    "    def __str__(self):\n",
    "\n",
    "        return '<' + str(self.getX()) + ',' + str(self.getY()) + '>'\n",
    "    \n",
    "    def __eq__(self, other):\n",
    "        return self.getX()==other.getX() and self.getY()==other.getY()\n",
    "    def __repr__(self):\n",
    "        #確定型態是否相等\n",
    "        assert type(other) == type(self)\n",
    "        \n",
    "        return 'Coordinate('+str(self.getX())+','+str(self.getY())+')'"
   ]
  },
  {
   "cell_type": "code",
   "execution_count": 13,
   "metadata": {},
   "outputs": [],
   "source": [
    "start=Coordinate(1,2)\n",
    "second=Coordinate(1,2)"
   ]
  },
  {
   "cell_type": "code",
   "execution_count": 14,
   "metadata": {},
   "outputs": [
    {
     "data": {
      "text/plain": [
       "True"
      ]
     },
     "execution_count": 14,
     "metadata": {},
     "output_type": "execute_result"
    }
   ],
   "source": [
    "start==second"
   ]
  },
  {
   "cell_type": "code",
   "execution_count": 17,
   "metadata": {},
   "outputs": [],
   "source": [
    "class intSet(object):\n",
    "    \"\"\"An intSet is a set of integers\n",
    "    The value is represented by a list of ints, self.vals.\n",
    "    Each int in the set occurs in self.vals exactly once.\"\"\"\n",
    "\n",
    "    def __init__(self):\n",
    "        \"\"\"Create an empty set of integers\"\"\"\n",
    "        self.vals = []\n",
    "\n",
    "    def insert(self, e):\n",
    "        \"\"\"Assumes e is an integer and inserts e into self\"\"\" \n",
    "        if not e in self.vals:\n",
    "            self.vals.append(e)\n",
    "\n",
    "    def member(self, e):\n",
    "        \"\"\"Assumes e is an integer\n",
    "           Returns True if e is in self, and False otherwise\"\"\"\n",
    "        return e in self.vals\n",
    "\n",
    "    def remove(self, e):\n",
    "        \"\"\"Assumes e is an integer and removes e from self\n",
    "           Raises ValueError if e is not in self\"\"\"\n",
    "        try:\n",
    "            self.vals.remove(e)\n",
    "        except:\n",
    "            raise ValueError(str(e) + ' not found')\n",
    "\n",
    "    def __str__(self):\n",
    "        \"\"\"Returns a string representation of self\"\"\"\n",
    "        self.vals.sort()\n",
    "        return '{' + ','.join([str(e) for e in self.vals]) + '}'\n",
    "    def intersect(self, other):\n",
    "        common=intset()\n",
    "        for value in self.vals:\n",
    "            if other.member(value):\n",
    "                common.insert(value)\n",
    "        return common\n",
    "    def __len__(self):\n",
    "        return len(self.vals)"
   ]
  },
  {
   "cell_type": "code",
   "execution_count": 21,
   "metadata": {},
   "outputs": [],
   "source": [
    "class Spell(object):\n",
    "    def __init__(self, incantation, name):\n",
    "        self.name = name\n",
    "        self.incantation = incantation\n",
    "\n",
    "    def __str__(self):\n",
    "        return self.name + ' ' + self.incantation + '\\n' + self.getDescription()\n",
    "\n",
    "    def getDescription(self):\n",
    "        return 'No description'\n",
    "\n",
    "    def execute(self):\n",
    "        print (self.incantation)\n",
    "\n",
    "\n",
    "class Accio(Spell):\n",
    "    def __init__(self):\n",
    "        Spell.__init__(self, 'Accio', 'Summoning Charm')\n",
    "\n",
    "class Confundo(Spell):\n",
    "    def __init__(self):\n",
    "        Spell.__init__(self, 'Confundo', 'Confundus Charm')\n",
    "\n",
    "    def getDescription(self):\n",
    "        return 'Causes the victim to become confused and befuddled.'\n",
    "\n",
    "def studySpell(spell):\n",
    "    print (spell)"
   ]
  },
  {
   "cell_type": "code",
   "execution_count": 22,
   "metadata": {},
   "outputs": [
    {
     "name": "stdout",
     "output_type": "stream",
     "text": [
      "Accio\n",
      "Summoning Charm Accio\n",
      "No description\n",
      "Confundus Charm Confundo\n",
      "Causes the victim to become confused and befuddled.\n"
     ]
    }
   ],
   "source": [
    "spell = Accio()\n",
    "\n",
    "spell.execute()\n",
    "\n",
    "studySpell(spell)\n",
    "\n",
    "studySpell(Confundo())"
   ]
  },
  {
   "cell_type": "code",
   "execution_count": 23,
   "metadata": {},
   "outputs": [],
   "source": [
    "class Accio(Spell):\n",
    "    def __init__(self):\n",
    "        Spell.__init__(self, 'Accio', 'Summoning Charm')\n",
    "    \n",
    "    def getDescription(self):\n",
    "        'This charm summons an object to the caster, potentially over a significant distance.'"
   ]
  },
  {
   "cell_type": "code",
   "execution_count": 24,
   "metadata": {},
   "outputs": [],
   "source": [
    "class A(object):\n",
    "\n",
    "    def __init__(self):\n",
    "\n",
    "        self.a = 1\n",
    "\n",
    "    def x(self):\n",
    "\n",
    "        print(\"A.x\")\n",
    "\n",
    "    def y(self):\n",
    "\n",
    "        print(\"A.y\")\n",
    "\n",
    "    def z(self):\n",
    "\n",
    "        print(\"A.z\")\n",
    "\n",
    "\n",
    "\n",
    "class B(A):\n",
    "\n",
    "    def __init__(self):\n",
    "\n",
    "        A.__init__(self)\n",
    "\n",
    "        self.a = 2\n",
    "\n",
    "        self.b = 3\n",
    "\n",
    "    def y(self):\n",
    "\n",
    "        print(\"B.y\")\n",
    "\n",
    "    def z(self):\n",
    "\n",
    "        print(\"B.z\")\n",
    "\n",
    "\n",
    "\n",
    "class C(object):\n",
    "\n",
    "    def __init__(self):\n",
    "\n",
    "        self.a = 4\n",
    "\n",
    "        self.c = 5\n",
    "\n",
    "    def y(self):\n",
    "\n",
    "        print(\"C.y\")\n",
    "\n",
    "    def z(self):\n",
    "\n",
    "        print(\"C.z\")\n",
    "\n",
    "\n",
    "\n",
    "class D(C, B):\n",
    "\n",
    "    def __init__(self):\n",
    "\n",
    "        C.__init__(self)\n",
    "\n",
    "        B.__init__(self)\n",
    "\n",
    "        self.d = 6\n",
    "\n",
    "    def z(self):\n",
    "\n",
    "        print(\"D.z\")"
   ]
  },
  {
   "cell_type": "code",
   "execution_count": 42,
   "metadata": {},
   "outputs": [],
   "source": [
    "obj=D()"
   ]
  },
  {
   "cell_type": "code",
   "execution_count": null,
   "metadata": {},
   "outputs": [],
   "source": []
  },
  {
   "cell_type": "code",
   "execution_count": null,
   "metadata": {},
   "outputs": [],
   "source": []
  }
 ],
 "metadata": {
  "kernelspec": {
   "display_name": "Python 3",
   "language": "python",
   "name": "python3"
  },
  "language_info": {
   "codemirror_mode": {
    "name": "ipython",
    "version": 3
   },
   "file_extension": ".py",
   "mimetype": "text/x-python",
   "name": "python",
   "nbconvert_exporter": "python",
   "pygments_lexer": "ipython3",
   "version": "3.7.6"
  }
 },
 "nbformat": 4,
 "nbformat_minor": 4
}
