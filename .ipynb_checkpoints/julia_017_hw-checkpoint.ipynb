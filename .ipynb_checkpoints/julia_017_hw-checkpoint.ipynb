{
 "cells": [
  {
   "cell_type": "markdown",
   "metadata": {
    "colab_type": "text",
    "id": "RwwJrhTYktEu"
   },
   "source": [
    "# Julia DataFrames.jl 介紹\n",
    "\n",
    "# Day 017 作業：載入 COVID-19 資料集\n",
    "\n",
    "今天的作業將使用 `DataFrames.jl` 及 `CSV.jl` 套件，來載入美國約翰霍普金斯大學提供的 COVID-19 資料集 (2019 Novel Coronavirus COVID-19 (2019-nCoV) Data Repository by Johns Hopkins CSSE)。資料集作為教育及研究使用，並且被用來建立視覺化儀表板提供檢視及追蹤 COVID-19 疫情狀況。\n",
    "\n",
    "資料集 GitHub: [https://github.com/CSSEGISandData/COVID-19](https://github.com/CSSEGISandData/COVID-19)\n",
    "\n",
    "資料集格式為 CSV，整合不同資料來源，主要分為 Daily Report 及時間序列資料。\n",
    "\n",
    "請自行下載 2020/4/2 的 daily report資料集：[https://github.com/CSSEGISandData/COVID-19/blob/master/csse_covid_19_data/csse_covid_19_daily_reports/04-02-2020.csv](https://github.com/CSSEGISandData/COVID-19/blob/master/csse_covid_19_data/csse_covid_19_daily_reports/04-02-2020.csv)\n",
    "\n",
    "Daily Report 主要欄位有：\n",
    "\n",
    "- Province/State: 省名 (中國)、州名或市名 (美國、加拿大、澳洲)、或是事件名稱 (例如鑽石公主號)...\n",
    "- Country/Region: 國名或區域名\n",
    "- Last Update: 最後更新日期/時間，格式為 24 小時制的 UTC 時間\n",
    "- Confirmed: 確診案例\n",
    "- Deaths: 死亡案例\n",
    "- Recovered: 康復案例\n",
    "- Lat, Long: 經緯度\n",
    "- Combined Key: 複合 Key 值"
   ]
  },
  {
   "cell_type": "code",
   "execution_count": 1,
   "metadata": {
    "colab": {},
    "colab_type": "code",
    "id": "vuP8jUnyktEw"
   },
   "outputs": [
    {
     "name": "stderr",
     "output_type": "stream",
     "text": [
      "┌ Info: Precompiling CSV [336ed68f-0bac-5ca0-87d4-7b16caf5d00b]\n",
      "└ @ Base loading.jl:1260\n"
     ]
    }
   ],
   "source": [
    "using DataFrames, CSV"
   ]
  },
  {
   "cell_type": "code",
   "execution_count": 27,
   "metadata": {
    "colab": {},
    "colab_type": "code",
    "id": "OpdMDBpOktE2"
   },
   "outputs": [
    {
     "data": {
      "text/html": [
       "<table class=\"data-frame\"><thead><tr><th></th><th>FIPS</th><th>Admin2</th><th>Province_State</th><th>Country_Region</th><th>Last_Update</th><th>Lat</th></tr><tr><th></th><th>Int64⍰</th><th>String⍰</th><th>String⍰</th><th>String</th><th>String</th><th>Float64⍰</th></tr></thead><tbody><p>5 rows × 12 columns (omitted printing of 6 columns)</p><tr><th>1</th><td>45001</td><td>Abbeville</td><td>South Carolina</td><td>US</td><td>2020-04-02 23:25:27</td><td>34.2233</td></tr><tr><th>2</th><td>22001</td><td>Acadia</td><td>Louisiana</td><td>US</td><td>2020-04-02 23:25:27</td><td>30.2951</td></tr><tr><th>3</th><td>51001</td><td>Accomack</td><td>Virginia</td><td>US</td><td>2020-04-02 23:25:27</td><td>37.7671</td></tr><tr><th>4</th><td>16001</td><td>Ada</td><td>Idaho</td><td>US</td><td>2020-04-02 23:25:27</td><td>43.4527</td></tr><tr><th>5</th><td>19001</td><td>Adair</td><td>Iowa</td><td>US</td><td>2020-04-02 23:25:27</td><td>41.3308</td></tr></tbody></table>"
      ],
      "text/latex": [
       "\\begin{tabular}{r|ccccccc}\n",
       "\t& FIPS & Admin2 & Province\\_State & Country\\_Region & Last\\_Update & Lat & \\\\\n",
       "\t\\hline\n",
       "\t& Int64⍰ & String⍰ & String⍰ & String & String & Float64⍰ & \\\\\n",
       "\t\\hline\n",
       "\t1 & 45001 & Abbeville & South Carolina & US & 2020-04-02 23:25:27 & 34.2233 & $\\dots$ \\\\\n",
       "\t2 & 22001 & Acadia & Louisiana & US & 2020-04-02 23:25:27 & 30.2951 & $\\dots$ \\\\\n",
       "\t3 & 51001 & Accomack & Virginia & US & 2020-04-02 23:25:27 & 37.7671 & $\\dots$ \\\\\n",
       "\t4 & 16001 & Ada & Idaho & US & 2020-04-02 23:25:27 & 43.4527 & $\\dots$ \\\\\n",
       "\t5 & 19001 & Adair & Iowa & US & 2020-04-02 23:25:27 & 41.3308 & $\\dots$ \\\\\n",
       "\\end{tabular}\n"
      ],
      "text/plain": [
       "5×12 DataFrame. Omitted printing of 8 columns\n",
       "│ Row │ FIPS   │ Admin2    │ Province_State │ Country_Region │\n",
       "│     │ \u001b[90mInt64⍰\u001b[39m │ \u001b[90mString⍰\u001b[39m   │ \u001b[90mString⍰\u001b[39m        │ \u001b[90mString\u001b[39m         │\n",
       "├─────┼────────┼───────────┼────────────────┼────────────────┤\n",
       "│ 1   │ 45001  │ Abbeville │ South Carolina │ US             │\n",
       "│ 2   │ 22001  │ Acadia    │ Louisiana      │ US             │\n",
       "│ 3   │ 51001  │ Accomack  │ Virginia       │ US             │\n",
       "│ 4   │ 16001  │ Ada       │ Idaho          │ US             │\n",
       "│ 5   │ 19001  │ Adair     │ Iowa           │ US             │"
      ]
     },
     "execution_count": 27,
     "metadata": {},
     "output_type": "execute_result"
    }
   ],
   "source": [
    "df =CSV.read(\"04-02-2020.csv\")# 撰寫讀取 CSV 檔的程式碼\n",
    "first(df,5)"
   ]
  },
  {
   "cell_type": "markdown",
   "metadata": {
    "colab_type": "text",
    "id": "tjHT7JguktE8"
   },
   "source": [
    "請問此資料集的筆數 (row) 及欄位數 (column) 各是多少？"
   ]
  },
  {
   "cell_type": "code",
   "execution_count": 28,
   "metadata": {
    "colab": {},
    "colab_type": "code",
    "id": "PsiCFHoQktE9"
   },
   "outputs": [
    {
     "name": "stdout",
     "output_type": "stream",
     "text": [
      "rows: 2569\n",
      "column: 12\n"
     ]
    }
   ],
   "source": [
    "# 請在此輸入程式碼\n",
    "rows,column=size(df)\n",
    "println(\"rows: \",rows,\"\\ncolumn: \",column)"
   ]
  },
  {
   "cell_type": "code",
   "execution_count": 29,
   "metadata": {
    "colab": {},
    "colab_type": "code",
    "id": "rM_SuUgiktFB"
   },
   "outputs": [
    {
     "data": {
      "text/html": [
       "<table class=\"data-frame\"><thead><tr><th></th><th>variable</th><th>mean</th><th>min</th><th>median</th><th>max</th></tr><tr><th></th><th>Symbol</th><th>Union…</th><th>Any</th><th>Union…</th><th>Any</th></tr></thead><tbody><p>12 rows × 8 columns (omitted printing of 3 columns)</p><tr><th>1</th><td>FIPS</td><td>30958.4</td><td>66</td><td>29093.0</td><td>99999</td></tr><tr><th>2</th><td>Admin2</td><td></td><td>Abbeville</td><td></td><td>unassigned</td></tr><tr><th>3</th><td>Province_State</td><td></td><td>Alabama</td><td></td><td>Zhejiang</td></tr><tr><th>4</th><td>Country_Region</td><td></td><td>Afghanistan</td><td></td><td>Zimbabwe</td></tr><tr><th>5</th><td>Last_Update</td><td></td><td>2020-02-23 11:19:02</td><td></td><td>2020-04-02 23:32:01</td></tr><tr><th>6</th><td>Lat</td><td>36.2992</td><td>-42.8821</td><td>37.7171</td><td>71.7069</td></tr><tr><th>7</th><td>Long_</td><td>-78.9577</td><td>-159.597</td><td>-86.5104</td><td>178.065</td></tr><tr><th>8</th><td>Confirmed</td><td>394.378</td><td>0</td><td>7.0</td><td>115242</td></tr><tr><th>9</th><td>Deaths</td><td>20.624</td><td>0</td><td>0.0</td><td>13915</td></tr><tr><th>10</th><td>Recovered</td><td>81.8462</td><td>0</td><td>0.0</td><td>63471</td></tr><tr><th>11</th><td>Active</td><td>199.29</td><td>0</td><td>0.0</td><td>83049</td></tr><tr><th>12</th><td>Combined_Key</td><td></td><td>,,Belize</td><td></td><td>unassigned, Wyoming, US</td></tr></tbody></table>"
      ],
      "text/latex": [
       "\\begin{tabular}{r|cccccc}\n",
       "\t& variable & mean & min & median & max & \\\\\n",
       "\t\\hline\n",
       "\t& Symbol & Union… & Any & Union… & Any & \\\\\n",
       "\t\\hline\n",
       "\t1 & FIPS & 30958.4 & 66 & 29093.0 & 99999 & $\\dots$ \\\\\n",
       "\t2 & Admin2 &  & Abbeville &  & unassigned & $\\dots$ \\\\\n",
       "\t3 & Province\\_State &  & Alabama &  & Zhejiang & $\\dots$ \\\\\n",
       "\t4 & Country\\_Region &  & Afghanistan &  & Zimbabwe & $\\dots$ \\\\\n",
       "\t5 & Last\\_Update &  & 2020-02-23 11:19:02 &  & 2020-04-02 23:32:01 & $\\dots$ \\\\\n",
       "\t6 & Lat & 36.2992 & -42.8821 & 37.7171 & 71.7069 & $\\dots$ \\\\\n",
       "\t7 & Long\\_ & -78.9577 & -159.597 & -86.5104 & 178.065 & $\\dots$ \\\\\n",
       "\t8 & Confirmed & 394.378 & 0 & 7.0 & 115242 & $\\dots$ \\\\\n",
       "\t9 & Deaths & 20.624 & 0 & 0.0 & 13915 & $\\dots$ \\\\\n",
       "\t10 & Recovered & 81.8462 & 0 & 0.0 & 63471 & $\\dots$ \\\\\n",
       "\t11 & Active & 199.29 & 0 & 0.0 & 83049 & $\\dots$ \\\\\n",
       "\t12 & Combined\\_Key &  & ,,Belize &  & unassigned, Wyoming, US & $\\dots$ \\\\\n",
       "\\end{tabular}\n"
      ],
      "text/plain": [
       "12×8 DataFrame. Omitted printing of 4 columns\n",
       "│ Row │ variable       │ mean     │ min                 │ median   │\n",
       "│     │ \u001b[90mSymbol\u001b[39m         │ \u001b[90mUnion…\u001b[39m   │ \u001b[90mAny\u001b[39m                 │ \u001b[90mUnion…\u001b[39m   │\n",
       "├─────┼────────────────┼──────────┼─────────────────────┼──────────┤\n",
       "│ 1   │ FIPS           │ 30958.4  │ 66                  │ 29093.0  │\n",
       "│ 2   │ Admin2         │          │ Abbeville           │          │\n",
       "│ 3   │ Province_State │          │ Alabama             │          │\n",
       "│ 4   │ Country_Region │          │ Afghanistan         │          │\n",
       "│ 5   │ Last_Update    │          │ 2020-02-23 11:19:02 │          │\n",
       "│ 6   │ Lat            │ 36.2992  │ -42.8821            │ 37.7171  │\n",
       "│ 7   │ Long_          │ -78.9577 │ -159.597            │ -86.5104 │\n",
       "│ 8   │ Confirmed      │ 394.378  │ 0                   │ 7.0      │\n",
       "│ 9   │ Deaths         │ 20.624   │ 0                   │ 0.0      │\n",
       "│ 10  │ Recovered      │ 81.8462  │ 0                   │ 0.0      │\n",
       "│ 11  │ Active         │ 199.29   │ 0                   │ 0.0      │\n",
       "│ 12  │ Combined_Key   │          │ ,,Belize            │          │"
      ]
     },
     "execution_count": 29,
     "metadata": {},
     "output_type": "execute_result"
    }
   ],
   "source": [
    "# 彙總 DataFrame 資訊\n",
    "describe(df)"
   ]
  },
  {
   "cell_type": "markdown",
   "metadata": {
    "colab_type": "text",
    "id": "_JFYFQPYktFG"
   },
   "source": [
    "### 作業1：數值 Column 的計算\n",
    "\n",
    "請問截至4月2日為止 (UTC 時間)，全球累計的確診、死亡、及㡽復案例數各是多少？\n",
    "\n",
    "【提示】可參考 `sum()` 內建函式。"
   ]
  },
  {
   "cell_type": "code",
   "execution_count": 30,
   "metadata": {
    "colab": {},
    "colab_type": "code",
    "id": "FbDS2rEqktFG"
   },
   "outputs": [
    {
     "data": {
      "text/html": [
       "<table class=\"data-frame\"><thead><tr><th></th><th>Confirmed</th><th>Deaths</th><th>Recovered</th></tr><tr><th></th><th>Int64</th><th>Int64</th><th>Int64</th></tr></thead><tbody><p>2,569 rows × 3 columns</p><tr><th>1</th><td>6</td><td>0</td><td>0</td></tr><tr><th>2</th><td>61</td><td>1</td><td>0</td></tr><tr><th>3</th><td>10</td><td>0</td><td>0</td></tr><tr><th>4</th><td>312</td><td>3</td><td>0</td></tr><tr><th>5</th><td>1</td><td>0</td><td>0</td></tr><tr><th>6</th><td>6</td><td>0</td><td>0</td></tr><tr><th>7</th><td>9</td><td>0</td><td>0</td></tr><tr><th>8</th><td>212</td><td>2</td><td>0</td></tr><tr><th>9</th><td>1</td><td>0</td><td>0</td></tr><tr><th>10</th><td>2</td><td>0</td><td>0</td></tr><tr><th>11</th><td>1</td><td>0</td><td>0</td></tr><tr><th>12</th><td>14</td><td>0</td><td>0</td></tr><tr><th>13</th><td>6</td><td>0</td><td>0</td></tr><tr><th>14</th><td>18</td><td>0</td><td>0</td></tr><tr><th>15</th><td>20</td><td>0</td><td>0</td></tr><tr><th>16</th><td>1</td><td>0</td><td>0</td></tr><tr><th>17</th><td>26</td><td>0</td><td>0</td></tr><tr><th>18</th><td>22</td><td>1</td><td>0</td></tr><tr><th>19</th><td>95</td><td>0</td><td>0</td></tr><tr><th>20</th><td>13</td><td>0</td><td>0</td></tr><tr><th>21</th><td>359</td><td>8</td><td>0</td></tr><tr><th>22</th><td>4</td><td>0</td><td>0</td></tr><tr><th>23</th><td>253</td><td>2</td><td>0</td></tr><tr><th>24</th><td>3</td><td>0</td><td>0</td></tr><tr><th>25</th><td>23</td><td>0</td><td>0</td></tr><tr><th>26</th><td>3</td><td>0</td><td>0</td></tr><tr><th>27</th><td>2</td><td>0</td><td>0</td></tr><tr><th>28</th><td>33</td><td>0</td><td>0</td></tr><tr><th>29</th><td>15</td><td>1</td><td>0</td></tr><tr><th>30</th><td>5</td><td>0</td><td>0</td></tr><tr><th>&vellip;</th><td>&vellip;</td><td>&vellip;</td><td>&vellip;</td></tr></tbody></table>"
      ],
      "text/latex": [
       "\\begin{tabular}{r|ccc}\n",
       "\t& Confirmed & Deaths & Recovered\\\\\n",
       "\t\\hline\n",
       "\t& Int64 & Int64 & Int64\\\\\n",
       "\t\\hline\n",
       "\t1 & 6 & 0 & 0 \\\\\n",
       "\t2 & 61 & 1 & 0 \\\\\n",
       "\t3 & 10 & 0 & 0 \\\\\n",
       "\t4 & 312 & 3 & 0 \\\\\n",
       "\t5 & 1 & 0 & 0 \\\\\n",
       "\t6 & 6 & 0 & 0 \\\\\n",
       "\t7 & 9 & 0 & 0 \\\\\n",
       "\t8 & 212 & 2 & 0 \\\\\n",
       "\t9 & 1 & 0 & 0 \\\\\n",
       "\t10 & 2 & 0 & 0 \\\\\n",
       "\t11 & 1 & 0 & 0 \\\\\n",
       "\t12 & 14 & 0 & 0 \\\\\n",
       "\t13 & 6 & 0 & 0 \\\\\n",
       "\t14 & 18 & 0 & 0 \\\\\n",
       "\t15 & 20 & 0 & 0 \\\\\n",
       "\t16 & 1 & 0 & 0 \\\\\n",
       "\t17 & 26 & 0 & 0 \\\\\n",
       "\t18 & 22 & 1 & 0 \\\\\n",
       "\t19 & 95 & 0 & 0 \\\\\n",
       "\t20 & 13 & 0 & 0 \\\\\n",
       "\t21 & 359 & 8 & 0 \\\\\n",
       "\t22 & 4 & 0 & 0 \\\\\n",
       "\t23 & 253 & 2 & 0 \\\\\n",
       "\t24 & 3 & 0 & 0 \\\\\n",
       "\t25 & 23 & 0 & 0 \\\\\n",
       "\t26 & 3 & 0 & 0 \\\\\n",
       "\t27 & 2 & 0 & 0 \\\\\n",
       "\t28 & 33 & 0 & 0 \\\\\n",
       "\t29 & 15 & 1 & 0 \\\\\n",
       "\t30 & 5 & 0 & 0 \\\\\n",
       "\t$\\dots$ & $\\dots$ & $\\dots$ & $\\dots$ \\\\\n",
       "\\end{tabular}\n"
      ],
      "text/plain": [
       "2569×3 DataFrame\n",
       "│ Row  │ Confirmed │ Deaths │ Recovered │\n",
       "│      │ \u001b[90mInt64\u001b[39m     │ \u001b[90mInt64\u001b[39m  │ \u001b[90mInt64\u001b[39m     │\n",
       "├──────┼───────────┼────────┼───────────┤\n",
       "│ 1    │ 6         │ 0      │ 0         │\n",
       "│ 2    │ 61        │ 1      │ 0         │\n",
       "│ 3    │ 10        │ 0      │ 0         │\n",
       "│ 4    │ 312       │ 3      │ 0         │\n",
       "│ 5    │ 1         │ 0      │ 0         │\n",
       "│ 6    │ 6         │ 0      │ 0         │\n",
       "│ 7    │ 9         │ 0      │ 0         │\n",
       "│ 8    │ 212       │ 2      │ 0         │\n",
       "│ 9    │ 1         │ 0      │ 0         │\n",
       "│ 10   │ 2         │ 0      │ 0         │\n",
       "⋮\n",
       "│ 2559 │ 897       │ 22     │ 19        │\n",
       "│ 2560 │ 1024      │ 8      │ 96        │\n",
       "│ 2561 │ 33718     │ 2921   │ 135       │\n",
       "│ 2562 │ 350       │ 4      │ 62        │\n",
       "│ 2563 │ 205       │ 2      │ 25        │\n",
       "│ 2564 │ 146       │ 5      │ 43        │\n",
       "│ 2565 │ 233       │ 0      │ 75        │\n",
       "│ 2566 │ 161       │ 1      │ 18        │\n",
       "│ 2567 │ 39        │ 1      │ 0         │\n",
       "│ 2568 │ 9         │ 1      │ 0         │\n",
       "│ 2569 │ 0         │ 0      │ 0         │"
      ]
     },
     "execution_count": 30,
     "metadata": {},
     "output_type": "execute_result"
    }
   ],
   "source": [
    "df2=df[:,[:Confirmed,:Deaths,:Recovered]]"
   ]
  },
  {
   "cell_type": "code",
   "execution_count": 31,
   "metadata": {},
   "outputs": [
    {
     "data": {
      "text/html": [
       "<table class=\"data-frame\"><thead><tr><th></th><th>Confirmed_sum</th><th>Deaths_sum</th><th>Recovered_sum</th></tr><tr><th></th><th>Int64</th><th>Int64</th><th>Int64</th></tr></thead><tbody><p>1 rows × 3 columns</p><tr><th>1</th><td>1013157</td><td>52983</td><td>210263</td></tr></tbody></table>"
      ],
      "text/latex": [
       "\\begin{tabular}{r|ccc}\n",
       "\t& Confirmed\\_sum & Deaths\\_sum & Recovered\\_sum\\\\\n",
       "\t\\hline\n",
       "\t& Int64 & Int64 & Int64\\\\\n",
       "\t\\hline\n",
       "\t1 & 1013157 & 52983 & 210263 \\\\\n",
       "\\end{tabular}\n"
      ],
      "text/plain": [
       "1×3 DataFrame\n",
       "│ Row │ Confirmed_sum │ Deaths_sum │ Recovered_sum │\n",
       "│     │ \u001b[90mInt64\u001b[39m         │ \u001b[90mInt64\u001b[39m      │ \u001b[90mInt64\u001b[39m         │\n",
       "├─────┼───────────────┼────────────┼───────────────┤\n",
       "│ 1   │ 1013157       │ 52983      │ 210263        │"
      ]
     },
     "execution_count": 31,
     "metadata": {},
     "output_type": "execute_result"
    }
   ],
   "source": [
    "using Statistics\n",
    "aggregate(df2,[sum])"
   ]
  },
  {
   "cell_type": "markdown",
   "metadata": {
    "colab_type": "text",
    "id": "L18CxMYmktFL"
   },
   "source": [
    "上面解答範例列出確診案例數前 10 名的 Province_State, Country_Region, Confirmed, Deaths, Recovered 等 5 個 column。"
   ]
  },
  {
   "cell_type": "code",
   "execution_count": 32,
   "metadata": {},
   "outputs": [
    {
     "data": {
      "text/html": [
       "<table class=\"data-frame\"><thead><tr><th></th><th>Province_State</th><th>Country_Region</th><th>Confirmed</th><th>Deaths</th><th>Recovered</th></tr><tr><th></th><th>String⍰</th><th>String</th><th>Int64</th><th>Int64</th><th>Int64</th></tr></thead><tbody><p>10 rows × 5 columns</p><tr><th>1</th><td>missing</td><td>Italy</td><td>115242</td><td>13915</td><td>18278</td></tr><tr><th>2</th><td>missing</td><td>Spain</td><td>112065</td><td>10348</td><td>26743</td></tr><tr><th>3</th><td>missing</td><td>Germany</td><td>84794</td><td>1107</td><td>22440</td></tr><tr><th>4</th><td>Hubei</td><td>China</td><td>67802</td><td>3199</td><td>63471</td></tr><tr><th>5</th><td>missing</td><td>France</td><td>59105</td><td>5387</td><td>12428</td></tr><tr><th>6</th><td>New York</td><td>US</td><td>51809</td><td>1397</td><td>0</td></tr><tr><th>7</th><td>missing</td><td>Iran</td><td>50468</td><td>3160</td><td>16711</td></tr><tr><th>8</th><td>missing</td><td>United Kingdom</td><td>33718</td><td>2921</td><td>135</td></tr><tr><th>9</th><td>missing</td><td>Switzerland</td><td>18827</td><td>536</td><td>4013</td></tr><tr><th>10</th><td>missing</td><td>Turkey</td><td>18135</td><td>356</td><td>415</td></tr></tbody></table>"
      ],
      "text/latex": [
       "\\begin{tabular}{r|ccccc}\n",
       "\t& Province\\_State & Country\\_Region & Confirmed & Deaths & Recovered\\\\\n",
       "\t\\hline\n",
       "\t& String⍰ & String & Int64 & Int64 & Int64\\\\\n",
       "\t\\hline\n",
       "\t1 &  & Italy & 115242 & 13915 & 18278 \\\\\n",
       "\t2 &  & Spain & 112065 & 10348 & 26743 \\\\\n",
       "\t3 &  & Germany & 84794 & 1107 & 22440 \\\\\n",
       "\t4 & Hubei & China & 67802 & 3199 & 63471 \\\\\n",
       "\t5 &  & France & 59105 & 5387 & 12428 \\\\\n",
       "\t6 & New York & US & 51809 & 1397 & 0 \\\\\n",
       "\t7 &  & Iran & 50468 & 3160 & 16711 \\\\\n",
       "\t8 &  & United Kingdom & 33718 & 2921 & 135 \\\\\n",
       "\t9 &  & Switzerland & 18827 & 536 & 4013 \\\\\n",
       "\t10 &  & Turkey & 18135 & 356 & 415 \\\\\n",
       "\\end{tabular}\n"
      ],
      "text/plain": [
       "10×5 DataFrame\n",
       "│ Row │ Province_State │ Country_Region │ Confirmed │ Deaths │ Recovered │\n",
       "│     │ \u001b[90mString⍰\u001b[39m        │ \u001b[90mString\u001b[39m         │ \u001b[90mInt64\u001b[39m     │ \u001b[90mInt64\u001b[39m  │ \u001b[90mInt64\u001b[39m     │\n",
       "├─────┼────────────────┼────────────────┼───────────┼────────┼───────────┤\n",
       "│ 1   │ \u001b[90mmissing\u001b[39m        │ Italy          │ 115242    │ 13915  │ 18278     │\n",
       "│ 2   │ \u001b[90mmissing\u001b[39m        │ Spain          │ 112065    │ 10348  │ 26743     │\n",
       "│ 3   │ \u001b[90mmissing\u001b[39m        │ Germany        │ 84794     │ 1107   │ 22440     │\n",
       "│ 4   │ Hubei          │ China          │ 67802     │ 3199   │ 63471     │\n",
       "│ 5   │ \u001b[90mmissing\u001b[39m        │ France         │ 59105     │ 5387   │ 12428     │\n",
       "│ 6   │ New York       │ US             │ 51809     │ 1397   │ 0         │\n",
       "│ 7   │ \u001b[90mmissing\u001b[39m        │ Iran           │ 50468     │ 3160   │ 16711     │\n",
       "│ 8   │ \u001b[90mmissing\u001b[39m        │ United Kingdom │ 33718     │ 2921   │ 135       │\n",
       "│ 9   │ \u001b[90mmissing\u001b[39m        │ Switzerland    │ 18827     │ 536    │ 4013      │\n",
       "│ 10  │ \u001b[90mmissing\u001b[39m        │ Turkey         │ 18135     │ 356    │ 415       │"
      ]
     },
     "execution_count": 32,
     "metadata": {},
     "output_type": "execute_result"
    }
   ],
   "source": [
    "df3=sort(df,:Confirmed,rev=true)\n",
    "df3[1:10,[:Province_State,:Country_Region,:Confirmed,:Deaths,:Recovered]]"
   ]
  },
  {
   "cell_type": "markdown",
   "metadata": {
    "colab_type": "text",
    "id": "edTskysektFL"
   },
   "source": [
    "### 作業2：找出特定的 Row\n",
    "\n",
    "截至4月2日為止 (UTC 時間)，台灣的確診、死亡、及㡽復案例數為多少？\n",
    "\n",
    "【提示】使用點運算 `.==` 來比較同一 column 中所有值。"
   ]
  },
  {
   "cell_type": "code",
   "execution_count": 38,
   "metadata": {
    "colab": {},
    "colab_type": "code",
    "id": "_y1CuQ_wktFM"
   },
   "outputs": [
    {
     "data": {
      "text/html": [
       "<table class=\"data-frame\"><thead><tr><th></th><th>Country_Region</th><th>Confirmed_sum</th><th>Deaths_sum</th><th>Recovered_sum</th></tr><tr><th></th><th>String</th><th>Int64</th><th>Int64</th><th>Int64</th></tr></thead><tbody><p>181 rows × 4 columns</p><tr><th>1</th><td>US</td><td>243453</td><td>5926</td><td>9001</td></tr><tr><th>2</th><td>Canada</td><td>11284</td><td>139</td><td>1735</td></tr><tr><th>3</th><td>United Kingdom</td><td>34173</td><td>2926</td><td>192</td></tr><tr><th>4</th><td>China</td><td>82432</td><td>3322</td><td>76565</td></tr><tr><th>5</th><td>Netherlands</td><td>14788</td><td>1341</td><td>260</td></tr><tr><th>6</th><td>Australia</td><td>5116</td><td>24</td><td>520</td></tr><tr><th>7</th><td>Denmark</td><td>3573</td><td>123</td><td>1172</td></tr><tr><th>8</th><td>France</td><td>59929</td><td>5398</td><td>12548</td></tr><tr><th>9</th><td>Afghanistan</td><td>273</td><td>6</td><td>10</td></tr><tr><th>10</th><td>Albania</td><td>277</td><td>16</td><td>76</td></tr><tr><th>11</th><td>Algeria</td><td>986</td><td>86</td><td>61</td></tr><tr><th>12</th><td>Andorra</td><td>428</td><td>15</td><td>10</td></tr><tr><th>13</th><td>Angola</td><td>8</td><td>2</td><td>1</td></tr><tr><th>14</th><td>Antigua and Barbuda</td><td>9</td><td>0</td><td>0</td></tr><tr><th>15</th><td>Argentina</td><td>1133</td><td>36</td><td>256</td></tr><tr><th>16</th><td>Armenia</td><td>663</td><td>7</td><td>33</td></tr><tr><th>17</th><td>Austria</td><td>11129</td><td>158</td><td>1749</td></tr><tr><th>18</th><td>Azerbaijan</td><td>400</td><td>5</td><td>26</td></tr><tr><th>19</th><td>Bahamas</td><td>24</td><td>1</td><td>1</td></tr><tr><th>20</th><td>Bahrain</td><td>643</td><td>4</td><td>381</td></tr><tr><th>21</th><td>Bangladesh</td><td>56</td><td>6</td><td>25</td></tr><tr><th>22</th><td>Barbados</td><td>46</td><td>0</td><td>0</td></tr><tr><th>23</th><td>Belarus</td><td>304</td><td>4</td><td>53</td></tr><tr><th>24</th><td>Belgium</td><td>15348</td><td>1011</td><td>2495</td></tr><tr><th>25</th><td>Belize</td><td>3</td><td>0</td><td>0</td></tr><tr><th>26</th><td>Benin</td><td>13</td><td>0</td><td>1</td></tr><tr><th>27</th><td>Bhutan</td><td>5</td><td>0</td><td>1</td></tr><tr><th>28</th><td>Bolivia</td><td>123</td><td>8</td><td>1</td></tr><tr><th>29</th><td>Bosnia and Herzegovina</td><td>533</td><td>16</td><td>20</td></tr><tr><th>30</th><td>Botswana</td><td>4</td><td>1</td><td>0</td></tr><tr><th>&vellip;</th><td>&vellip;</td><td>&vellip;</td><td>&vellip;</td><td>&vellip;</td></tr></tbody></table>"
      ],
      "text/latex": [
       "\\begin{tabular}{r|cccc}\n",
       "\t& Country\\_Region & Confirmed\\_sum & Deaths\\_sum & Recovered\\_sum\\\\\n",
       "\t\\hline\n",
       "\t& String & Int64 & Int64 & Int64\\\\\n",
       "\t\\hline\n",
       "\t1 & US & 243453 & 5926 & 9001 \\\\\n",
       "\t2 & Canada & 11284 & 139 & 1735 \\\\\n",
       "\t3 & United Kingdom & 34173 & 2926 & 192 \\\\\n",
       "\t4 & China & 82432 & 3322 & 76565 \\\\\n",
       "\t5 & Netherlands & 14788 & 1341 & 260 \\\\\n",
       "\t6 & Australia & 5116 & 24 & 520 \\\\\n",
       "\t7 & Denmark & 3573 & 123 & 1172 \\\\\n",
       "\t8 & France & 59929 & 5398 & 12548 \\\\\n",
       "\t9 & Afghanistan & 273 & 6 & 10 \\\\\n",
       "\t10 & Albania & 277 & 16 & 76 \\\\\n",
       "\t11 & Algeria & 986 & 86 & 61 \\\\\n",
       "\t12 & Andorra & 428 & 15 & 10 \\\\\n",
       "\t13 & Angola & 8 & 2 & 1 \\\\\n",
       "\t14 & Antigua and Barbuda & 9 & 0 & 0 \\\\\n",
       "\t15 & Argentina & 1133 & 36 & 256 \\\\\n",
       "\t16 & Armenia & 663 & 7 & 33 \\\\\n",
       "\t17 & Austria & 11129 & 158 & 1749 \\\\\n",
       "\t18 & Azerbaijan & 400 & 5 & 26 \\\\\n",
       "\t19 & Bahamas & 24 & 1 & 1 \\\\\n",
       "\t20 & Bahrain & 643 & 4 & 381 \\\\\n",
       "\t21 & Bangladesh & 56 & 6 & 25 \\\\\n",
       "\t22 & Barbados & 46 & 0 & 0 \\\\\n",
       "\t23 & Belarus & 304 & 4 & 53 \\\\\n",
       "\t24 & Belgium & 15348 & 1011 & 2495 \\\\\n",
       "\t25 & Belize & 3 & 0 & 0 \\\\\n",
       "\t26 & Benin & 13 & 0 & 1 \\\\\n",
       "\t27 & Bhutan & 5 & 0 & 1 \\\\\n",
       "\t28 & Bolivia & 123 & 8 & 1 \\\\\n",
       "\t29 & Bosnia and Herzegovina & 533 & 16 & 20 \\\\\n",
       "\t30 & Botswana & 4 & 1 & 0 \\\\\n",
       "\t$\\dots$ & $\\dots$ & $\\dots$ & $\\dots$ & $\\dots$ \\\\\n",
       "\\end{tabular}\n"
      ],
      "text/plain": [
       "181×4 DataFrame\n",
       "│ Row │ Country_Region       │ Confirmed_sum │ Deaths_sum │ Recovered_sum │\n",
       "│     │ \u001b[90mString\u001b[39m               │ \u001b[90mInt64\u001b[39m         │ \u001b[90mInt64\u001b[39m      │ \u001b[90mInt64\u001b[39m         │\n",
       "├─────┼──────────────────────┼───────────────┼────────────┼───────────────┤\n",
       "│ 1   │ US                   │ 243453        │ 5926       │ 9001          │\n",
       "│ 2   │ Canada               │ 11284         │ 139        │ 1735          │\n",
       "│ 3   │ United Kingdom       │ 34173         │ 2926       │ 192           │\n",
       "│ 4   │ China                │ 82432         │ 3322       │ 76565         │\n",
       "│ 5   │ Netherlands          │ 14788         │ 1341       │ 260           │\n",
       "│ 6   │ Australia            │ 5116          │ 24         │ 520           │\n",
       "│ 7   │ Denmark              │ 3573          │ 123        │ 1172          │\n",
       "│ 8   │ France               │ 59929         │ 5398       │ 12548         │\n",
       "│ 9   │ Afghanistan          │ 273           │ 6          │ 10            │\n",
       "│ 10  │ Albania              │ 277           │ 16         │ 76            │\n",
       "⋮\n",
       "│ 171 │ Turkey               │ 18135         │ 356        │ 415           │\n",
       "│ 172 │ Uganda               │ 45            │ 0          │ 0             │\n",
       "│ 173 │ Ukraine              │ 897           │ 22         │ 19            │\n",
       "│ 174 │ United Arab Emirates │ 1024          │ 8          │ 96            │\n",
       "│ 175 │ Uruguay              │ 350           │ 4          │ 62            │\n",
       "│ 176 │ Uzbekistan           │ 205           │ 2          │ 25            │\n",
       "│ 177 │ Venezuela            │ 146           │ 5          │ 43            │\n",
       "│ 178 │ Vietnam              │ 233           │ 0          │ 75            │\n",
       "│ 179 │ West Bank and Gaza   │ 161           │ 1          │ 18            │\n",
       "│ 180 │ Zambia               │ 39            │ 1          │ 0             │\n",
       "│ 181 │ Zimbabwe             │ 9             │ 1          │ 0             │"
      ]
     },
     "execution_count": 38,
     "metadata": {},
     "output_type": "execute_result"
    }
   ],
   "source": [
    "df4=df[:,[:Country_Region,:Confirmed,:Deaths,:Recovered]]\n",
    "df5=aggregate(df4, :Country_Region,sum)\n",
    "#sort(df5,:Confirmed_sum)"
   ]
  },
  {
   "cell_type": "code",
   "execution_count": 51,
   "metadata": {},
   "outputs": [
    {
     "name": "stdout",
     "output_type": "stream",
     "text": [
      "US\n",
      "Canada\n",
      "United Kingdom\n",
      "China\n",
      "Netherlands\n",
      "Australia\n",
      "Denmark\n",
      "France\n",
      "Afghanistan\n",
      "Albania\n",
      "Algeria\n",
      "Andorra\n",
      "Angola\n",
      "Antigua and Barbuda\n",
      "Argentina\n",
      "Armenia\n",
      "Austria\n",
      "Azerbaijan\n",
      "Bahamas\n",
      "Bahrain\n",
      "Bangladesh\n",
      "Barbados\n",
      "Belarus\n",
      "Belgium\n",
      "Belize\n",
      "Benin\n",
      "Bhutan\n",
      "Bolivia\n",
      "Bosnia and Herzegovina\n",
      "Botswana\n",
      "Brazil\n",
      "Brunei\n",
      "Bulgaria\n",
      "Burkina Faso\n",
      "Burma\n",
      "Burundi\n",
      "Cabo Verde\n",
      "Cambodia\n",
      "Cameroon\n",
      "Central African Republic\n",
      "Chad\n",
      "Chile\n",
      "Colombia\n",
      "Congo (Brazzaville)\n",
      "Congo (Kinshasa)\n",
      "Costa Rica\n",
      "Cote d'Ivoire\n",
      "Croatia\n",
      "Cuba\n",
      "Cyprus\n",
      "Czechia\n",
      "Diamond Princess\n",
      "Djibouti\n",
      "Dominica\n",
      "Dominican Republic\n",
      "Ecuador\n",
      "Egypt\n",
      "El Salvador\n",
      "Equatorial Guinea\n",
      "Eritrea\n",
      "Estonia\n",
      "Eswatini\n",
      "Ethiopia\n",
      "Fiji\n",
      "Finland\n",
      "Gabon\n",
      "Gambia\n",
      "Georgia\n",
      "Germany\n",
      "Ghana\n",
      "Greece\n",
      "Grenada\n",
      "Guatemala\n",
      "Guinea\n",
      "Guinea-Bissau\n",
      "Guyana\n",
      "Haiti\n",
      "Holy See\n",
      "Honduras\n",
      "Hungary\n",
      "Iceland\n",
      "India\n",
      "Indonesia\n",
      "Iran\n",
      "Iraq\n",
      "Ireland\n",
      "Israel\n",
      "Italy\n",
      "Jamaica\n",
      "Japan\n",
      "Jordan\n",
      "Kazakhstan\n",
      "Kenya\n",
      "Korea, South\n",
      "Kosovo\n",
      "Kuwait\n",
      "Kyrgyzstan\n",
      "Laos\n",
      "Latvia\n",
      "Lebanon\n",
      "Liberia\n",
      "Libya\n",
      "Liechtenstein\n",
      "Lithuania\n",
      "Luxembourg\n",
      "MS Zaandam\n",
      "Madagascar\n",
      "Malawi\n",
      "Malaysia\n",
      "Maldives\n",
      "Mali\n",
      "Malta\n",
      "Mauritania\n",
      "Mauritius\n",
      "Mexico\n",
      "Moldova\n",
      "Monaco\n",
      "Mongolia\n",
      "Montenegro\n",
      "Morocco\n",
      "Mozambique\n",
      "Namibia\n",
      "Nepal\n",
      "New Zealand\n",
      "Nicaragua\n",
      "Niger\n",
      "Nigeria\n",
      "North Macedonia\n",
      "Norway\n",
      "Oman\n",
      "Pakistan\n",
      "Panama\n",
      "Papua New Guinea\n",
      "Paraguay\n",
      "Peru\n",
      "Philippines\n",
      "Poland\n",
      "Portugal\n",
      "Qatar\n",
      "Romania\n",
      "Russia\n",
      "Rwanda\n",
      "Saint Kitts and Nevis\n",
      "Saint Lucia\n",
      "Saint Vincent and the Grenadines\n",
      "San Marino\n",
      "Saudi Arabia\n",
      "Senegal\n",
      "Serbia\n",
      "Seychelles\n",
      "Sierra Leone\n",
      "Singapore\n",
      "Slovakia\n",
      "Slovenia\n",
      "Somalia\n",
      "South Africa\n",
      "Spain\n",
      "Sri Lanka\n",
      "Sudan\n",
      "Suriname\n",
      "Sweden\n",
      "Switzerland\n",
      "Syria\n",
      "Taiwan*\n",
      "Tanzania\n",
      "Thailand\n",
      "Timor-Leste\n",
      "Togo\n",
      "Trinidad and Tobago\n",
      "Tunisia\n",
      "Turkey\n",
      "Uganda\n",
      "Ukraine\n",
      "United Arab Emirates\n",
      "Uruguay\n",
      "Uzbekistan\n",
      "Venezuela\n",
      "Vietnam\n",
      "West Bank and Gaza\n",
      "Zambia\n",
      "Zimbabwe\n"
     ]
    },
    {
     "name": "stderr",
     "output_type": "stream",
     "text": [
      "┌ Warning: `getindex(df::DataFrame, col_ind::ColumnIndex)` is deprecated, use `df[!, col_ind]` instead.\n",
      "│   caller = top-level scope at In[51]:1\n",
      "└ @ Core .\\In[51]:1\n"
     ]
    }
   ],
   "source": [
    "for i in unique(df[:Country_Region])\n",
    "    println(i)\n",
    "end"
   ]
  },
  {
   "cell_type": "code",
   "execution_count": 56,
   "metadata": {},
   "outputs": [
    {
     "data": {
      "text/html": [
       "<table class=\"data-frame\"><thead><tr><th></th><th>Country_Region</th><th>Confirmed_sum</th><th>Deaths_sum</th><th>Recovered_sum</th></tr><tr><th></th><th>String</th><th>Int64</th><th>Int64</th><th>Int64</th></tr></thead><tbody><p>1 rows × 4 columns</p><tr><th>1</th><td>Taiwan*</td><td>339</td><td>5</td><td>45</td></tr></tbody></table>"
      ],
      "text/latex": [
       "\\begin{tabular}{r|cccc}\n",
       "\t& Country\\_Region & Confirmed\\_sum & Deaths\\_sum & Recovered\\_sum\\\\\n",
       "\t\\hline\n",
       "\t& String & Int64 & Int64 & Int64\\\\\n",
       "\t\\hline\n",
       "\t1 & Taiwan* & 339 & 5 & 45 \\\\\n",
       "\\end{tabular}\n"
      ],
      "text/plain": [
       "1×4 DataFrame\n",
       "│ Row │ Country_Region │ Confirmed_sum │ Deaths_sum │ Recovered_sum │\n",
       "│     │ \u001b[90mString\u001b[39m         │ \u001b[90mInt64\u001b[39m         │ \u001b[90mInt64\u001b[39m      │ \u001b[90mInt64\u001b[39m         │\n",
       "├─────┼────────────────┼───────────────┼────────────┼───────────────┤\n",
       "│ 1   │ Taiwan*        │ 339           │ 5          │ 45            │"
      ]
     },
     "execution_count": 56,
     "metadata": {},
     "output_type": "execute_result"
    }
   ],
   "source": [
    "taiwan_no_1=filter(row->row[:Country_Region]==\"Taiwan*\",df5)\n",
    "#taiwan_no_1[:,[:Country_Region,:Confirmed_sum,:Deaths_sum,:Recovered_sum]]"
   ]
  },
  {
   "cell_type": "code",
   "execution_count": 25,
   "metadata": {},
   "outputs": [],
   "source": [
    "df = DataFrame(a = repeat([1, 2, 3, 4], outer=[2]),\n",
    "                      b = repeat([2, 1], outer=[4]),\n",
    "                      c = 1:8);"
   ]
  },
  {
   "cell_type": "code",
   "execution_count": 26,
   "metadata": {},
   "outputs": [
    {
     "data": {
      "text/html": [
       "<table class=\"data-frame\"><thead><tr><th></th><th>a</th><th>b</th><th>c</th></tr><tr><th></th><th>Int64</th><th>Int64</th><th>Int64</th></tr></thead><tbody><p>8 rows × 3 columns</p><tr><th>1</th><td>1</td><td>2</td><td>1</td></tr><tr><th>2</th><td>2</td><td>1</td><td>2</td></tr><tr><th>3</th><td>3</td><td>2</td><td>3</td></tr><tr><th>4</th><td>4</td><td>1</td><td>4</td></tr><tr><th>5</th><td>1</td><td>2</td><td>5</td></tr><tr><th>6</th><td>2</td><td>1</td><td>6</td></tr><tr><th>7</th><td>3</td><td>2</td><td>7</td></tr><tr><th>8</th><td>4</td><td>1</td><td>8</td></tr></tbody></table>"
      ],
      "text/latex": [
       "\\begin{tabular}{r|ccc}\n",
       "\t& a & b & c\\\\\n",
       "\t\\hline\n",
       "\t& Int64 & Int64 & Int64\\\\\n",
       "\t\\hline\n",
       "\t1 & 1 & 2 & 1 \\\\\n",
       "\t2 & 2 & 1 & 2 \\\\\n",
       "\t3 & 3 & 2 & 3 \\\\\n",
       "\t4 & 4 & 1 & 4 \\\\\n",
       "\t5 & 1 & 2 & 5 \\\\\n",
       "\t6 & 2 & 1 & 6 \\\\\n",
       "\t7 & 3 & 2 & 7 \\\\\n",
       "\t8 & 4 & 1 & 8 \\\\\n",
       "\\end{tabular}\n"
      ],
      "text/plain": [
       "8×3 DataFrame\n",
       "│ Row │ a     │ b     │ c     │\n",
       "│     │ \u001b[90mInt64\u001b[39m │ \u001b[90mInt64\u001b[39m │ \u001b[90mInt64\u001b[39m │\n",
       "├─────┼───────┼───────┼───────┤\n",
       "│ 1   │ 1     │ 2     │ 1     │\n",
       "│ 2   │ 2     │ 1     │ 2     │\n",
       "│ 3   │ 3     │ 2     │ 3     │\n",
       "│ 4   │ 4     │ 1     │ 4     │\n",
       "│ 5   │ 1     │ 2     │ 5     │\n",
       "│ 6   │ 2     │ 1     │ 6     │\n",
       "│ 7   │ 3     │ 2     │ 7     │\n",
       "│ 8   │ 4     │ 1     │ 8     │"
      ]
     },
     "execution_count": 26,
     "metadata": {},
     "output_type": "execute_result"
    }
   ],
   "source": [
    "df"
   ]
  },
  {
   "cell_type": "code",
   "execution_count": null,
   "metadata": {},
   "outputs": [],
   "source": []
  }
 ],
 "metadata": {
  "colab": {
   "name": "julia_017_hw.ipynb",
   "provenance": []
  },
  "kernelspec": {
   "display_name": "Julia 1.4.0",
   "language": "julia",
   "name": "julia-1.4"
  },
  "language_info": {
   "file_extension": ".jl",
   "mimetype": "application/julia",
   "name": "julia",
   "version": "1.4.0"
  }
 },
 "nbformat": 4,
 "nbformat_minor": 1
}
