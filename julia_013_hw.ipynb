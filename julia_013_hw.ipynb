{
 "cells": [
  {
   "cell_type": "markdown",
   "metadata": {},
   "source": [
    "## Day 013 作業1：用 Julia 標準函式寫 Sigmoid Function\n",
    "\n",
    "在 Day 002 時我們曾用 LaTeX 撰寫機器學習常見的激活函式 Sigmoid\n",
    "\n",
    "$\\Large f(x)=\\frac{1}{1+e^{-x}}$\n",
    "\n",
    "作業 1 請使用內建函式 `exp()` 來撰寫 Sigmoid 函式，計算矩陣的 sigmoid 值。"
   ]
  },
  {
   "cell_type": "markdown",
   "metadata": {},
   "source": [
    "例如：數字 3 的 sigmoid 值。"
   ]
  },
  {
   "cell_type": "code",
   "execution_count": 1,
   "metadata": {},
   "outputs": [
    {
     "data": {
      "text/plain": [
       "0.9525741268224334"
      ]
     },
     "execution_count": 1,
     "metadata": {},
     "output_type": "execute_result"
    }
   ],
   "source": [
    "1 / (1 + exp(-3))"
   ]
  },
  {
   "cell_type": "code",
   "execution_count": 15,
   "metadata": {},
   "outputs": [
    {
     "ename": "LoadError",
     "evalue": "syntax: invalid identifier name \".\"",
     "output_type": "error",
     "traceback": [
      "syntax: invalid identifier name \".\"",
      ""
     ]
    }
   ],
   "source": [
    "exp(.A)"
   ]
  },
  {
   "cell_type": "markdown",
   "metadata": {},
   "source": [
    "宣告及建立矩陣"
   ]
  },
  {
   "cell_type": "code",
   "execution_count": 1,
   "metadata": {},
   "outputs": [
    {
     "data": {
      "text/plain": [
       "3×5 Array{Int64,2}:\n",
       " 1  10  3  4   6\n",
       " 4   2  4  5  10\n",
       " 8   5  3  5   9"
      ]
     },
     "execution_count": 1,
     "metadata": {},
     "output_type": "execute_result"
    }
   ],
   "source": [
    "A = Matrix([1 10 3 4 6; 4 2 4 5 10; 8 5 3 5 9])"
   ]
  },
  {
   "cell_type": "code",
   "execution_count": 27,
   "metadata": {},
   "outputs": [
    {
     "data": {
      "text/plain": [
       "sigmoid (generic function with 1 method)"
      ]
     },
     "execution_count": 27,
     "metadata": {},
     "output_type": "execute_result"
    }
   ],
   "source": [
    "function sigmoid(x)\n",
    "    return 1/1(exp(-x))\n",
    "end"
   ]
  },
  {
   "cell_type": "code",
   "execution_count": 30,
   "metadata": {},
   "outputs": [
    {
     "data": {
      "text/plain": [
       "0-element Array{Float64,1}"
      ]
     },
     "execution_count": 30,
     "metadata": {},
     "output_type": "execute_result"
    }
   ],
   "source": [
    "#x = zeros(0)\n",
    "#append!( x, rand(10) )"
   ]
  },
  {
   "cell_type": "code",
   "execution_count": 35,
   "metadata": {},
   "outputs": [],
   "source": [
    "a=[]\n",
    "# 請在此撰寫計算 sigmoid\n",
    "for i in A\n",
    "    append!(a,round(sigmoid(i),digits=3))\n",
    "end"
   ]
  },
  {
   "cell_type": "code",
   "execution_count": 40,
   "metadata": {},
   "outputs": [
    {
     "data": {
      "text/plain": [
       "3×5 Array{Any,2}:\n",
       "    2.718  22026.5    20.086   54.598    403.429\n",
       "   54.598      7.389  54.598  148.413  22026.5\n",
       " 2980.96     148.413  20.086  148.413   8103.08"
      ]
     },
     "execution_count": 40,
     "metadata": {},
     "output_type": "execute_result"
    }
   ],
   "source": [
    "a=reshape(a,3,5)"
   ]
  },
  {
   "cell_type": "markdown",
   "metadata": {},
   "source": [
    "## 作業2：線性代數基礎運算 Matrix Multiplication 及 Addition\n",
    "\n",
    "假設 A 是 $n\\times m$ 的矩陣，B 是 $m\\times p$ 的矩陣，則矩陣乘法的積 AB 是 $\\displaystyle n\\times p$ 的矩陣。\n",
    "\n",
    "作業2 請撰寫程式，隨機產生矩陣 $W$ 及 $X$，計算線性方程式 $WX+b$。\n",
    "\n",
    "【提示】點運算的介紹，可回顧 Day 005 內容及範例。"
   ]
  },
  {
   "cell_type": "code",
   "execution_count": 3,
   "metadata": {},
   "outputs": [
    {
     "data": {
      "text/plain": [
       "1"
      ]
     },
     "execution_count": 3,
     "metadata": {},
     "output_type": "execute_result"
    }
   ],
   "source": [
    "# 給定 bias 變數值\n",
    "# 這邊給定的是純量，在矩陣加法中透過 broadcasting 進行加法\n",
    "b = 1"
   ]
  },
  {
   "cell_type": "code",
   "execution_count": null,
   "metadata": {},
   "outputs": [],
   "source": [
    "w = # 請在此撰寫程式"
   ]
  },
  {
   "cell_type": "code",
   "execution_count": null,
   "metadata": {},
   "outputs": [],
   "source": [
    "X = # 請在此撰寫程式"
   ]
  },
  {
   "cell_type": "code",
   "execution_count": null,
   "metadata": {},
   "outputs": [],
   "source": [
    "# 請在此撰寫計算線性方程式\n"
   ]
  },
  {
   "cell_type": "code",
   "execution_count": 22,
   "metadata": {},
   "outputs": [
    {
     "data": {
      "text/plain": [
       "3"
      ]
     },
     "execution_count": 22,
     "metadata": {},
     "output_type": "execute_result"
    }
   ],
   "source": [
    "W=Matrix(rand(0:10,5,3))\n",
    "X=Matrix(rand(0:10,3,2))\n",
    "b=3"
   ]
  },
  {
   "cell_type": "code",
   "execution_count": 24,
   "metadata": {},
   "outputs": [
    {
     "data": {
      "text/plain": [
       "5×2 Array{Int64,2}:\n",
       " 30  52\n",
       "  8  54\n",
       " 34  58\n",
       " 18  90\n",
       "  8  30"
      ]
     },
     "execution_count": 24,
     "metadata": {},
     "output_type": "execute_result"
    }
   ],
   "source": [
    "W*X"
   ]
  },
  {
   "cell_type": "code",
   "execution_count": 26,
   "metadata": {},
   "outputs": [
    {
     "data": {
      "text/plain": [
       "5×2 Array{Int64,2}:\n",
       " 33  55\n",
       " 11  57\n",
       " 37  61\n",
       " 21  93\n",
       " 11  33"
      ]
     },
     "execution_count": 26,
     "metadata": {},
     "output_type": "execute_result"
    }
   ],
   "source": [
    "W*X.+b"
   ]
  },
  {
   "cell_type": "code",
   "execution_count": null,
   "metadata": {},
   "outputs": [],
   "source": []
  }
 ],
 "metadata": {
  "kernelspec": {
   "display_name": "Julia 1.4.0",
   "language": "julia",
   "name": "julia-1.4"
  },
  "language_info": {
   "file_extension": ".jl",
   "mimetype": "application/julia",
   "name": "julia",
   "version": "1.4.0"
  }
 },
 "nbformat": 4,
 "nbformat_minor": 4
}
