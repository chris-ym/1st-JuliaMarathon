{
 "cells": [
  {
   "cell_type": "markdown",
   "metadata": {},
   "source": [
    "# Julia 數值系統介紹\n",
    "\n",
    "## Day 004 作業\n",
    "\n",
    "今天的內容提到整數及浮點數型別之最小值和最大值：\n",
    "\n",
    "|是否有正負號|型別|<div style=\"width:120px\">最大值</div>|<div style=\"width:120px\">最小值</div>|\n",
    "|---|---|---|---|\n",
    "|有|Int128, Int64, Int32, Int16, Int8|$2^{位元數-1}-1$|$-2^{位元數-1}$|\n",
    "|無|UInt128, UInt64, UInt32, UInt16, UInt8|$2^{位元數}-1$|$0$|\n",
    "\n",
    "|型別|最小值|最大值|\n",
    "|---|---|---|\n",
    "|`Float64`|-Inf|Inf|\n",
    "|`Float32`|-Inf 或 -Inf32|Inf 或 Inf32|\n",
    "|`Float16`|-Inf 或 -Inf16|Inf 或 Inf16|\n",
    "\n",
    "### 作業：範例程式示範了 Int64 及 Float64 的最小值和最大值，作業請列出並觀察其他整數及浮點數型別的最小值和最大值。"
   ]
  },
  {
   "cell_type": "markdown",
   "metadata": {},
   "source": [
    "呼叫 `typemin()` 及 `typemax()` 函式得到各型別的最小值和最大值。\n",
    "\n",
    "列出 Int128, Int32, Int16, Int8, UInt128, UInt64, UInt32, UInt16, UInt8 整數型別的最小值及最大值"
   ]
  },
  {
   "cell_type": "code",
   "execution_count": 6,
   "metadata": {},
   "outputs": [
    {
     "name": "stdout",
     "output_type": "stream",
     "text": [
      "Int128最大值: 170141183460469231731687303715884105727\n",
      "Int128最小值: -170141183460469231731687303715884105728 \n",
      "\n",
      "Int32最大值: 2147483647\n",
      "Int32最小值: -2147483648 \n",
      "\n",
      "Int16最大值: 32767\n",
      "Int16最小值: -32768 \n",
      "\n",
      "Int8最大值: 127\n",
      "Int8最小值: -128 \n",
      "\n"
     ]
    }
   ],
   "source": [
    "println(\"Int128最大值: $(typemax(Int128))\")\n",
    "println(\"Int128最小值: $(typemin(Int128)) \\n\")\n",
    "println(\"Int32最大值: $(typemax(Int32))\")\n",
    "println(\"Int32最小值: $(typemin(Int32)) \\n\")\n",
    "println(\"Int16最大值: $(typemax(Int16))\")\n",
    "println(\"Int16最小值: $(typemin(Int16)) \\n\")\n",
    "println(\"Int8最大值: $(typemax(Int8))\")\n",
    "println(\"Int8最小值: $(typemin(Int8)) \\n\")"
   ]
  },
  {
   "cell_type": "code",
   "execution_count": 7,
   "metadata": {},
   "outputs": [
    {
     "name": "stdout",
     "output_type": "stream",
     "text": [
      "UInt128最大值: 340282366920938463463374607431768211455\n",
      "UInt128最小值: 0 \n",
      "\n",
      "UInt64最大值: 18446744073709551615\n",
      "UInt64最小值: 0 \n",
      "\n",
      "UInt32最大值: 4294967295\n",
      "UInt32最小值: 0 \n",
      "\n",
      "UInt16最大值: 65535\n",
      "UInt16最小值: 0 \n",
      "\n",
      "UInt8最大值: 255\n",
      "UInt8最小值: 0 \n",
      "\n"
     ]
    }
   ],
   "source": [
    "println(\"UInt128最大值: $(typemax(UInt128))\")\n",
    "println(\"UInt128最小值: $(typemin(UInt128)) \\n\")\n",
    "println(\"UInt64最大值: $(typemax(UInt64))\")\n",
    "println(\"UInt64最小值: $(typemin(UInt64)) \\n\")\n",
    "println(\"UInt32最大值: $(typemax(UInt32))\")\n",
    "println(\"UInt32最小值: $(typemin(UInt32)) \\n\")\n",
    "println(\"UInt16最大值: $(typemax(UInt16))\")\n",
    "println(\"UInt16最小值: $(typemin(UInt16)) \\n\")\n",
    "println(\"UInt8最大值: $(typemax(UInt8))\")\n",
    "println(\"UInt8最小值: $(typemin(UInt8)) \\n\")"
   ]
  },
  {
   "cell_type": "markdown",
   "metadata": {},
   "source": [
    "列出 Float32, Float16 浮點數型別的最小和最大值"
   ]
  },
  {
   "cell_type": "code",
   "execution_count": 10,
   "metadata": {},
   "outputs": [
    {
     "name": "stdout",
     "output_type": "stream",
     "text": [
      "Float32: 最小值 -Inf, 最大值 Inf\n",
      "Float16: 最小值 -Inf, 最大值 Inf\n"
     ]
    }
   ],
   "source": [
    "println(\"$(rpad(Float32,7)): 最小值 $(typemin(Float32)), 最大值 $(typemax(Float32))\")\n",
    "println(\"Float16: 最小值 $(typemin(Float16)), 最大值 $(typemax(Float16))\")\n"
   ]
  }
 ],
 "metadata": {
  "@webio": {
   "lastCommId": null,
   "lastKernelId": null
  },
  "kernelspec": {
   "display_name": "Julia 1.4.0",
   "language": "julia",
   "name": "julia-1.4"
  },
  "language_info": {
   "file_extension": ".jl",
   "mimetype": "application/julia",
   "name": "julia",
   "version": "1.4.0"
  }
 },
 "nbformat": 4,
 "nbformat_minor": 4
}
